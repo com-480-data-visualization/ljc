{
 "cells": [
  {
   "cell_type": "code",
   "execution_count": 1,
   "metadata": {},
   "outputs": [],
   "source": [
    "import pandas as pd\n",
    "import seaborn as sns\n",
    "import matplotlib.pyplot as plt\n",
    "import plotly.express as px"
   ]
  },
  {
   "cell_type": "markdown",
   "metadata": {},
   "source": [
    "# Carbon footprint of swiss people"
   ]
  },
  {
   "cell_type": "code",
   "execution_count": 2,
   "metadata": {},
   "outputs": [],
   "source": [
    "carbonfootprint_df = pd.read_csv(\"data/swiss-carbon-footprint.csv\")"
   ]
  },
  {
   "cell_type": "code",
   "execution_count": 3,
   "metadata": {},
   "outputs": [
    {
     "data": {
      "text/html": [
       "<div>\n",
       "<style scoped>\n",
       "    .dataframe tbody tr th:only-of-type {\n",
       "        vertical-align: middle;\n",
       "    }\n",
       "\n",
       "    .dataframe tbody tr th {\n",
       "        vertical-align: top;\n",
       "    }\n",
       "\n",
       "    .dataframe thead th {\n",
       "        text-align: right;\n",
       "    }\n",
       "</style>\n",
       "<table border=\"1\" class=\"dataframe\">\n",
       "  <thead>\n",
       "    <tr style=\"text-align: right;\">\n",
       "      <th></th>\n",
       "      <th>category</th>\n",
       "      <th>sector</th>\n",
       "      <th>carbon_footprint</th>\n",
       "      <th>proportion</th>\n",
       "    </tr>\n",
       "  </thead>\n",
       "  <tbody>\n",
       "    <tr>\n",
       "      <th>0</th>\n",
       "      <td>Education, social and financial services</td>\n",
       "      <td>goods and services</td>\n",
       "      <td>821</td>\n",
       "      <td>7.06</td>\n",
       "    </tr>\n",
       "    <tr>\n",
       "      <th>1</th>\n",
       "      <td>Health</td>\n",
       "      <td>goods and services</td>\n",
       "      <td>627</td>\n",
       "      <td>5.39</td>\n",
       "    </tr>\n",
       "    <tr>\n",
       "      <th>2</th>\n",
       "      <td>Restaurants and hotels</td>\n",
       "      <td>goods and services</td>\n",
       "      <td>569</td>\n",
       "      <td>4.89</td>\n",
       "    </tr>\n",
       "  </tbody>\n",
       "</table>\n",
       "</div>"
      ],
      "text/plain": [
       "                                   category              sector  \\\n",
       "0  Education, social and financial services  goods and services   \n",
       "1                                    Health  goods and services   \n",
       "2                   Restaurants and hotels   goods and services   \n",
       "\n",
       "   carbon_footprint  proportion  \n",
       "0               821        7.06  \n",
       "1               627        5.39  \n",
       "2               569        4.89  "
      ]
     },
     "execution_count": 3,
     "metadata": {},
     "output_type": "execute_result"
    }
   ],
   "source": [
    "sum = carbonfootprint_df[\"carbon_footprint\"].sum()\n",
    "\n",
    "sum_goodsandservice = carbonfootprint_df[carbonfootprint_df['sector'] == \"goods and services\"].carbon_footprint.sum()\n",
    "sum_food = carbonfootprint_df[carbonfootprint_df['sector'] == \"food\"].carbon_footprint.sum()\n",
    "sum_transport = carbonfootprint_df[carbonfootprint_df['sector'] == \"transport\"].carbon_footprint.sum()\n",
    "sum_housing = carbonfootprint_df[carbonfootprint_df['sector'] == \"housing\"].carbon_footprint.sum()\n",
    "\n",
    "carbonfootprint_df.loc[len(carbonfootprint_df)] = {'category': 'goods and services', 'sector': '', 'carbon_footprint': sum_goodsandservice}\n",
    "carbonfootprint_df.loc[len(carbonfootprint_df)] = {'category': 'food', 'sector': '', 'carbon_footprint': sum_food}\n",
    "carbonfootprint_df.loc[len(carbonfootprint_df)] = {'category': 'transport', 'sector': '', 'carbon_footprint': sum_transport}\n",
    "carbonfootprint_df.loc[len(carbonfootprint_df)] = {'category': 'housing', 'sector': '', 'carbon_footprint': sum_housing}\n",
    "\n",
    "carbonfootprint_df['proportion'] = round(carbonfootprint_df['carbon_footprint']/sum*100, 2)\n",
    "\n",
    "carbonfootprint_df.head(3)"
   ]
  },
  {
   "cell_type": "code",
   "execution_count": 4,
   "metadata": {},
   "outputs": [
    {
     "data": {
      "application/vnd.plotly.v1+json": {
       "config": {
        "plotlyServerURL": "https://plot.ly"
       },
       "data": [
        {
         "branchvalues": "total",
         "customdata": [
          [
           7.06,
           "goods and services",
           "Education, social and financial services",
           821
          ],
          [
           5.39,
           "goods and services",
           "Health",
           627
          ],
          [
           4.89,
           "goods and services",
           "Restaurants and hotels ",
           569
          ],
          [
           4.49,
           "goods and services",
           "Cloting and shoes",
           522
          ],
          [
           2.15,
           "goods and services",
           "Electronic devices ",
           250
          ],
          [
           0.93,
           "goods and services",
           "Internet network",
           108
          ],
          [
           0.73,
           "goods and services",
           "Data centers",
           85
          ],
          [
           2.66,
           "goods and services",
           "Freight",
           309
          ],
          [
           0.21,
           "goods and services",
           "Mail services",
           24
          ],
          [
           1.76,
           "goods and services",
           "Recreation and culture",
           205
          ],
          [
           14.47,
           "transport",
           "Car",
           1683
          ],
          [
           14.44,
           "transport",
           "Plane",
           1679
          ],
          [
           0.44,
           "transport",
           "Road public transport",
           51
          ],
          [
           0.21,
           "transport",
           "Train",
           25
          ],
          [
           0.27,
           "transport",
           "Motorbike",
           31
          ],
          [
           12.55,
           "housing",
           "Heating",
           1459
          ],
          [
           1.5,
           "housing",
           "Waste management",
           174
          ],
          [
           5.15,
           "housing",
           "New buildings",
           599
          ],
          [
           1.01,
           "housing",
           "Hot water",
           118
          ],
          [
           0.21,
           "housing",
           "Water",
           24
          ],
          [
           0.15,
           "housing",
           "Lighting",
           18
          ],
          [
           0.42,
           "housing",
           "Maintenance work",
           49
          ],
          [
           0.15,
           "housing",
           "Renovation",
           17
          ],
          [
           2.11,
           "housing",
           "Furnitures",
           245
          ],
          [
           1.57,
           "housing",
           "Household appliances",
           183
          ],
          [
           3.34,
           "food",
           "Beef, veal",
           389
          ],
          [
           1.12,
           "food",
           "Pork",
           130
          ],
          [
           1.28,
           "food",
           "Fruits",
           149
          ],
          [
           0.66,
           "food",
           "Vegetables",
           77
          ],
          [
           0.39,
           "food",
           "Rice",
           45
          ],
          [
           2.24,
           "food",
           "Milk, dairy products",
           260
          ],
          [
           0.48,
           "food",
           "Fish and crustaceans",
           56
          ],
          [
           0.37,
           "food",
           "Chicken",
           43
          ],
          [
           0.33,
           "food",
           "Eggs",
           38
          ],
          [
           0.24,
           "food",
           "Sugar",
           28
          ],
          [
           0.09,
           "food",
           "Potatoes",
           11
          ],
          [
           0.85,
           "food",
           "Cereals-based products ",
           99
          ],
          [
           0.71,
           "food",
           "Animal fats",
           82
          ],
          [
           0.3,
           "food",
           "Pasta",
           35
          ],
          [
           0.26,
           "food",
           "Chocolate",
           30
          ],
          [
           0.21,
           "food",
           "Bread",
           24
          ],
          [
           0.42,
           "food",
           "Fruit and vegetable juices",
           49
          ],
          [
           0.47,
           "food",
           "Vegetable fats",
           55
          ],
          [
           0.05,
           "food",
           "Walnuts",
           6
          ],
          [
           0.02,
           "food",
           "Spices",
           2
          ],
          [
           0.82,
           "food",
           "Sweet drink",
           95
          ],
          [
           0.13,
           "food",
           "Coffee",
           15
          ],
          [
           0.11,
           "food",
           "Tobacco",
           13
          ],
          [
           0.09,
           "food",
           "Alcoholic beverage",
           10
          ],
          [
           0.02,
           "food",
           "Tea",
           2
          ],
          [
           0.1,
           "food",
           "Oilseeds",
           12
          ],
          [
           30.27,
           "",
           "goods and services",
           3520
          ],
          [
           15.09,
           "",
           "food",
           1755
          ],
          [
           29.83,
           "",
           "transport",
           3469
          ],
          [
           24.82,
           "",
           "housing",
           2886
          ]
         ],
         "domain": {
          "x": [
           0,
           1
          ],
          "y": [
           0,
           1
          ]
         },
         "hovertemplate": "<b>%{label}</b><br>Carbon footprint: %{value} kg CO₂eq<br>Proportion: %{customdata[0]}%",
         "hovertext": [
          "Education, social and financial services",
          "Health",
          "Restaurants and hotels ",
          "Cloting and shoes",
          "Electronic devices ",
          "Internet network",
          "Data centers",
          "Freight",
          "Mail services",
          "Recreation and culture",
          "Car",
          "Plane",
          "Road public transport",
          "Train",
          "Motorbike",
          "Heating",
          "Waste management",
          "New buildings",
          "Hot water",
          "Water",
          "Lighting",
          "Maintenance work",
          "Renovation",
          "Furnitures",
          "Household appliances",
          "Beef, veal",
          "Pork",
          "Fruits",
          "Vegetables",
          "Rice",
          "Milk, dairy products",
          "Fish and crustaceans",
          "Chicken",
          "Eggs",
          "Sugar",
          "Potatoes",
          "Cereals-based products ",
          "Animal fats",
          "Pasta",
          "Chocolate",
          "Bread",
          "Fruit and vegetable juices",
          "Vegetable fats",
          "Walnuts",
          "Spices",
          "Sweet drink",
          "Coffee",
          "Tobacco",
          "Alcoholic beverage",
          "Tea",
          "Oilseeds",
          "goods and services",
          "food",
          "transport",
          "housing"
         ],
         "labels": [
          "Education, social and financial services",
          "Health",
          "Restaurants and hotels ",
          "Cloting and shoes",
          "Electronic devices ",
          "Internet network",
          "Data centers",
          "Freight",
          "Mail services",
          "Recreation and culture",
          "Car",
          "Plane",
          "Road public transport",
          "Train",
          "Motorbike",
          "Heating",
          "Waste management",
          "New buildings",
          "Hot water",
          "Water",
          "Lighting",
          "Maintenance work",
          "Renovation",
          "Furnitures",
          "Household appliances",
          "Beef, veal",
          "Pork",
          "Fruits",
          "Vegetables",
          "Rice",
          "Milk, dairy products",
          "Fish and crustaceans",
          "Chicken",
          "Eggs",
          "Sugar",
          "Potatoes",
          "Cereals-based products ",
          "Animal fats",
          "Pasta",
          "Chocolate",
          "Bread",
          "Fruit and vegetable juices",
          "Vegetable fats",
          "Walnuts",
          "Spices",
          "Sweet drink",
          "Coffee",
          "Tobacco",
          "Alcoholic beverage",
          "Tea",
          "Oilseeds",
          "goods and services",
          "food",
          "transport",
          "housing"
         ],
         "name": "",
         "parents": [
          "goods and services",
          "goods and services",
          "goods and services",
          "goods and services",
          "goods and services",
          "goods and services",
          "goods and services",
          "goods and services",
          "goods and services",
          "goods and services",
          "transport",
          "transport",
          "transport",
          "transport",
          "transport",
          "housing",
          "housing",
          "housing",
          "housing",
          "housing",
          "housing",
          "housing",
          "housing",
          "housing",
          "housing",
          "food",
          "food",
          "food",
          "food",
          "food",
          "food",
          "food",
          "food",
          "food",
          "food",
          "food",
          "food",
          "food",
          "food",
          "food",
          "food",
          "food",
          "food",
          "food",
          "food",
          "food",
          "food",
          "food",
          "food",
          "food",
          "food",
          "",
          "",
          "",
          ""
         ],
         "type": "sunburst",
         "values": [
          821,
          627,
          569,
          522,
          250,
          108,
          85,
          309,
          24,
          205,
          1683,
          1679,
          51,
          25,
          31,
          1459,
          174,
          599,
          118,
          24,
          18,
          49,
          17,
          245,
          183,
          389,
          130,
          149,
          77,
          45,
          260,
          56,
          43,
          38,
          28,
          11,
          99,
          82,
          35,
          30,
          24,
          49,
          55,
          6,
          2,
          95,
          15,
          13,
          10,
          2,
          12,
          3520,
          1755,
          3469,
          2886
         ]
        }
       ],
       "layout": {
        "legend": {
         "tracegroupgap": 0
        },
        "sunburstcolorway": [
         "lightcoral",
         "turquoise",
         "orange",
         "cornflowerblue"
        ],
        "template": {
         "data": {
          "bar": [
           {
            "error_x": {
             "color": "#2a3f5f"
            },
            "error_y": {
             "color": "#2a3f5f"
            },
            "marker": {
             "line": {
              "color": "#E5ECF6",
              "width": 0.5
             },
             "pattern": {
              "fillmode": "overlay",
              "size": 10,
              "solidity": 0.2
             }
            },
            "type": "bar"
           }
          ],
          "barpolar": [
           {
            "marker": {
             "line": {
              "color": "#E5ECF6",
              "width": 0.5
             },
             "pattern": {
              "fillmode": "overlay",
              "size": 10,
              "solidity": 0.2
             }
            },
            "type": "barpolar"
           }
          ],
          "carpet": [
           {
            "aaxis": {
             "endlinecolor": "#2a3f5f",
             "gridcolor": "white",
             "linecolor": "white",
             "minorgridcolor": "white",
             "startlinecolor": "#2a3f5f"
            },
            "baxis": {
             "endlinecolor": "#2a3f5f",
             "gridcolor": "white",
             "linecolor": "white",
             "minorgridcolor": "white",
             "startlinecolor": "#2a3f5f"
            },
            "type": "carpet"
           }
          ],
          "choropleth": [
           {
            "colorbar": {
             "outlinewidth": 0,
             "ticks": ""
            },
            "type": "choropleth"
           }
          ],
          "contour": [
           {
            "colorbar": {
             "outlinewidth": 0,
             "ticks": ""
            },
            "colorscale": [
             [
              0,
              "#0d0887"
             ],
             [
              0.1111111111111111,
              "#46039f"
             ],
             [
              0.2222222222222222,
              "#7201a8"
             ],
             [
              0.3333333333333333,
              "#9c179e"
             ],
             [
              0.4444444444444444,
              "#bd3786"
             ],
             [
              0.5555555555555556,
              "#d8576b"
             ],
             [
              0.6666666666666666,
              "#ed7953"
             ],
             [
              0.7777777777777778,
              "#fb9f3a"
             ],
             [
              0.8888888888888888,
              "#fdca26"
             ],
             [
              1,
              "#f0f921"
             ]
            ],
            "type": "contour"
           }
          ],
          "contourcarpet": [
           {
            "colorbar": {
             "outlinewidth": 0,
             "ticks": ""
            },
            "type": "contourcarpet"
           }
          ],
          "heatmap": [
           {
            "colorbar": {
             "outlinewidth": 0,
             "ticks": ""
            },
            "colorscale": [
             [
              0,
              "#0d0887"
             ],
             [
              0.1111111111111111,
              "#46039f"
             ],
             [
              0.2222222222222222,
              "#7201a8"
             ],
             [
              0.3333333333333333,
              "#9c179e"
             ],
             [
              0.4444444444444444,
              "#bd3786"
             ],
             [
              0.5555555555555556,
              "#d8576b"
             ],
             [
              0.6666666666666666,
              "#ed7953"
             ],
             [
              0.7777777777777778,
              "#fb9f3a"
             ],
             [
              0.8888888888888888,
              "#fdca26"
             ],
             [
              1,
              "#f0f921"
             ]
            ],
            "type": "heatmap"
           }
          ],
          "heatmapgl": [
           {
            "colorbar": {
             "outlinewidth": 0,
             "ticks": ""
            },
            "colorscale": [
             [
              0,
              "#0d0887"
             ],
             [
              0.1111111111111111,
              "#46039f"
             ],
             [
              0.2222222222222222,
              "#7201a8"
             ],
             [
              0.3333333333333333,
              "#9c179e"
             ],
             [
              0.4444444444444444,
              "#bd3786"
             ],
             [
              0.5555555555555556,
              "#d8576b"
             ],
             [
              0.6666666666666666,
              "#ed7953"
             ],
             [
              0.7777777777777778,
              "#fb9f3a"
             ],
             [
              0.8888888888888888,
              "#fdca26"
             ],
             [
              1,
              "#f0f921"
             ]
            ],
            "type": "heatmapgl"
           }
          ],
          "histogram": [
           {
            "marker": {
             "pattern": {
              "fillmode": "overlay",
              "size": 10,
              "solidity": 0.2
             }
            },
            "type": "histogram"
           }
          ],
          "histogram2d": [
           {
            "colorbar": {
             "outlinewidth": 0,
             "ticks": ""
            },
            "colorscale": [
             [
              0,
              "#0d0887"
             ],
             [
              0.1111111111111111,
              "#46039f"
             ],
             [
              0.2222222222222222,
              "#7201a8"
             ],
             [
              0.3333333333333333,
              "#9c179e"
             ],
             [
              0.4444444444444444,
              "#bd3786"
             ],
             [
              0.5555555555555556,
              "#d8576b"
             ],
             [
              0.6666666666666666,
              "#ed7953"
             ],
             [
              0.7777777777777778,
              "#fb9f3a"
             ],
             [
              0.8888888888888888,
              "#fdca26"
             ],
             [
              1,
              "#f0f921"
             ]
            ],
            "type": "histogram2d"
           }
          ],
          "histogram2dcontour": [
           {
            "colorbar": {
             "outlinewidth": 0,
             "ticks": ""
            },
            "colorscale": [
             [
              0,
              "#0d0887"
             ],
             [
              0.1111111111111111,
              "#46039f"
             ],
             [
              0.2222222222222222,
              "#7201a8"
             ],
             [
              0.3333333333333333,
              "#9c179e"
             ],
             [
              0.4444444444444444,
              "#bd3786"
             ],
             [
              0.5555555555555556,
              "#d8576b"
             ],
             [
              0.6666666666666666,
              "#ed7953"
             ],
             [
              0.7777777777777778,
              "#fb9f3a"
             ],
             [
              0.8888888888888888,
              "#fdca26"
             ],
             [
              1,
              "#f0f921"
             ]
            ],
            "type": "histogram2dcontour"
           }
          ],
          "mesh3d": [
           {
            "colorbar": {
             "outlinewidth": 0,
             "ticks": ""
            },
            "type": "mesh3d"
           }
          ],
          "parcoords": [
           {
            "line": {
             "colorbar": {
              "outlinewidth": 0,
              "ticks": ""
             }
            },
            "type": "parcoords"
           }
          ],
          "pie": [
           {
            "automargin": true,
            "type": "pie"
           }
          ],
          "scatter": [
           {
            "fillpattern": {
             "fillmode": "overlay",
             "size": 10,
             "solidity": 0.2
            },
            "type": "scatter"
           }
          ],
          "scatter3d": [
           {
            "line": {
             "colorbar": {
              "outlinewidth": 0,
              "ticks": ""
             }
            },
            "marker": {
             "colorbar": {
              "outlinewidth": 0,
              "ticks": ""
             }
            },
            "type": "scatter3d"
           }
          ],
          "scattercarpet": [
           {
            "marker": {
             "colorbar": {
              "outlinewidth": 0,
              "ticks": ""
             }
            },
            "type": "scattercarpet"
           }
          ],
          "scattergeo": [
           {
            "marker": {
             "colorbar": {
              "outlinewidth": 0,
              "ticks": ""
             }
            },
            "type": "scattergeo"
           }
          ],
          "scattergl": [
           {
            "marker": {
             "colorbar": {
              "outlinewidth": 0,
              "ticks": ""
             }
            },
            "type": "scattergl"
           }
          ],
          "scattermapbox": [
           {
            "marker": {
             "colorbar": {
              "outlinewidth": 0,
              "ticks": ""
             }
            },
            "type": "scattermapbox"
           }
          ],
          "scatterpolar": [
           {
            "marker": {
             "colorbar": {
              "outlinewidth": 0,
              "ticks": ""
             }
            },
            "type": "scatterpolar"
           }
          ],
          "scatterpolargl": [
           {
            "marker": {
             "colorbar": {
              "outlinewidth": 0,
              "ticks": ""
             }
            },
            "type": "scatterpolargl"
           }
          ],
          "scatterternary": [
           {
            "marker": {
             "colorbar": {
              "outlinewidth": 0,
              "ticks": ""
             }
            },
            "type": "scatterternary"
           }
          ],
          "surface": [
           {
            "colorbar": {
             "outlinewidth": 0,
             "ticks": ""
            },
            "colorscale": [
             [
              0,
              "#0d0887"
             ],
             [
              0.1111111111111111,
              "#46039f"
             ],
             [
              0.2222222222222222,
              "#7201a8"
             ],
             [
              0.3333333333333333,
              "#9c179e"
             ],
             [
              0.4444444444444444,
              "#bd3786"
             ],
             [
              0.5555555555555556,
              "#d8576b"
             ],
             [
              0.6666666666666666,
              "#ed7953"
             ],
             [
              0.7777777777777778,
              "#fb9f3a"
             ],
             [
              0.8888888888888888,
              "#fdca26"
             ],
             [
              1,
              "#f0f921"
             ]
            ],
            "type": "surface"
           }
          ],
          "table": [
           {
            "cells": {
             "fill": {
              "color": "#EBF0F8"
             },
             "line": {
              "color": "white"
             }
            },
            "header": {
             "fill": {
              "color": "#C8D4E3"
             },
             "line": {
              "color": "white"
             }
            },
            "type": "table"
           }
          ]
         },
         "layout": {
          "annotationdefaults": {
           "arrowcolor": "#2a3f5f",
           "arrowhead": 0,
           "arrowwidth": 1
          },
          "autotypenumbers": "strict",
          "coloraxis": {
           "colorbar": {
            "outlinewidth": 0,
            "ticks": ""
           }
          },
          "colorscale": {
           "diverging": [
            [
             0,
             "#8e0152"
            ],
            [
             0.1,
             "#c51b7d"
            ],
            [
             0.2,
             "#de77ae"
            ],
            [
             0.3,
             "#f1b6da"
            ],
            [
             0.4,
             "#fde0ef"
            ],
            [
             0.5,
             "#f7f7f7"
            ],
            [
             0.6,
             "#e6f5d0"
            ],
            [
             0.7,
             "#b8e186"
            ],
            [
             0.8,
             "#7fbc41"
            ],
            [
             0.9,
             "#4d9221"
            ],
            [
             1,
             "#276419"
            ]
           ],
           "sequential": [
            [
             0,
             "#0d0887"
            ],
            [
             0.1111111111111111,
             "#46039f"
            ],
            [
             0.2222222222222222,
             "#7201a8"
            ],
            [
             0.3333333333333333,
             "#9c179e"
            ],
            [
             0.4444444444444444,
             "#bd3786"
            ],
            [
             0.5555555555555556,
             "#d8576b"
            ],
            [
             0.6666666666666666,
             "#ed7953"
            ],
            [
             0.7777777777777778,
             "#fb9f3a"
            ],
            [
             0.8888888888888888,
             "#fdca26"
            ],
            [
             1,
             "#f0f921"
            ]
           ],
           "sequentialminus": [
            [
             0,
             "#0d0887"
            ],
            [
             0.1111111111111111,
             "#46039f"
            ],
            [
             0.2222222222222222,
             "#7201a8"
            ],
            [
             0.3333333333333333,
             "#9c179e"
            ],
            [
             0.4444444444444444,
             "#bd3786"
            ],
            [
             0.5555555555555556,
             "#d8576b"
            ],
            [
             0.6666666666666666,
             "#ed7953"
            ],
            [
             0.7777777777777778,
             "#fb9f3a"
            ],
            [
             0.8888888888888888,
             "#fdca26"
            ],
            [
             1,
             "#f0f921"
            ]
           ]
          },
          "colorway": [
           "#636efa",
           "#EF553B",
           "#00cc96",
           "#ab63fa",
           "#FFA15A",
           "#19d3f3",
           "#FF6692",
           "#B6E880",
           "#FF97FF",
           "#FECB52"
          ],
          "font": {
           "color": "#2a3f5f"
          },
          "geo": {
           "bgcolor": "white",
           "lakecolor": "white",
           "landcolor": "#E5ECF6",
           "showlakes": true,
           "showland": true,
           "subunitcolor": "white"
          },
          "hoverlabel": {
           "align": "left"
          },
          "hovermode": "closest",
          "mapbox": {
           "style": "light"
          },
          "paper_bgcolor": "white",
          "plot_bgcolor": "#E5ECF6",
          "polar": {
           "angularaxis": {
            "gridcolor": "white",
            "linecolor": "white",
            "ticks": ""
           },
           "bgcolor": "#E5ECF6",
           "radialaxis": {
            "gridcolor": "white",
            "linecolor": "white",
            "ticks": ""
           }
          },
          "scene": {
           "xaxis": {
            "backgroundcolor": "#E5ECF6",
            "gridcolor": "white",
            "gridwidth": 2,
            "linecolor": "white",
            "showbackground": true,
            "ticks": "",
            "zerolinecolor": "white"
           },
           "yaxis": {
            "backgroundcolor": "#E5ECF6",
            "gridcolor": "white",
            "gridwidth": 2,
            "linecolor": "white",
            "showbackground": true,
            "ticks": "",
            "zerolinecolor": "white"
           },
           "zaxis": {
            "backgroundcolor": "#E5ECF6",
            "gridcolor": "white",
            "gridwidth": 2,
            "linecolor": "white",
            "showbackground": true,
            "ticks": "",
            "zerolinecolor": "white"
           }
          },
          "shapedefaults": {
           "line": {
            "color": "#2a3f5f"
           }
          },
          "ternary": {
           "aaxis": {
            "gridcolor": "white",
            "linecolor": "white",
            "ticks": ""
           },
           "baxis": {
            "gridcolor": "white",
            "linecolor": "white",
            "ticks": ""
           },
           "bgcolor": "#E5ECF6",
           "caxis": {
            "gridcolor": "white",
            "linecolor": "white",
            "ticks": ""
           }
          },
          "title": {
           "x": 0.05
          },
          "xaxis": {
           "automargin": true,
           "gridcolor": "white",
           "linecolor": "white",
           "ticks": "",
           "title": {
            "standoff": 15
           },
           "zerolinecolor": "white",
           "zerolinewidth": 2
          },
          "yaxis": {
           "automargin": true,
           "gridcolor": "white",
           "linecolor": "white",
           "ticks": "",
           "title": {
            "standoff": 15
           },
           "zerolinecolor": "white",
           "zerolinewidth": 2
          }
         }
        },
        "title": {
         "text": "Repartition of the carbon footprint of a swiss person"
        }
       }
      }
     },
     "metadata": {},
     "output_type": "display_data"
    }
   ],
   "source": [
    "fig = px.sunburst(carbonfootprint_df, \n",
    "                  names='category', \n",
    "                  parents='sector', \n",
    "                  values='carbon_footprint',\n",
    "                  custom_data=['proportion'],\n",
    "                  hover_name='category',\n",
    "                  hover_data={\n",
    "                    \"sector\": False,\n",
    "                    \"category\": False,\n",
    "                    \"carbon_footprint\": True,\n",
    "                    \"proportion\": \":.2f\"\n",
    "                    },         \n",
    "                  branchvalues = 'total',\n",
    "                  color_discrete_sequence = ['lightcoral', 'turquoise', 'orange', 'cornflowerblue'], \n",
    "                  title='Repartition of the carbon footprint of a swiss person')\n",
    "\n",
    "fig.update_traces(hovertemplate=\n",
    "    \"<b>%{label}</b><br>\" +\n",
    "    \"Carbon footprint: %{value} kg CO₂eq<br>\" +\n",
    "    \"Proportion: %{customdata[0]}%\")\n",
    "\n",
    "fig.show()"
   ]
  },
  {
   "cell_type": "markdown",
   "metadata": {},
   "source": [
    "# Water"
   ]
  },
  {
   "cell_type": "code",
   "execution_count": 5,
   "metadata": {},
   "outputs": [
    {
     "data": {
      "text/html": [
       "<div>\n",
       "<style scoped>\n",
       "    .dataframe tbody tr th:only-of-type {\n",
       "        vertical-align: middle;\n",
       "    }\n",
       "\n",
       "    .dataframe tbody tr th {\n",
       "        vertical-align: top;\n",
       "    }\n",
       "\n",
       "    .dataframe thead th {\n",
       "        text-align: right;\n",
       "    }\n",
       "</style>\n",
       "<table border=\"1\" class=\"dataframe\">\n",
       "  <thead>\n",
       "    <tr style=\"text-align: right;\">\n",
       "      <th></th>\n",
       "      <th>Entity</th>\n",
       "      <th>Code</th>\n",
       "      <th>Year</th>\n",
       "      <th>Freshwater use</th>\n",
       "    </tr>\n",
       "  </thead>\n",
       "  <tbody>\n",
       "    <tr>\n",
       "      <th>0</th>\n",
       "      <td>BRICS</td>\n",
       "      <td>NaN</td>\n",
       "      <td>1901</td>\n",
       "      <td>301174824608</td>\n",
       "    </tr>\n",
       "    <tr>\n",
       "      <th>1</th>\n",
       "      <td>BRICS</td>\n",
       "      <td>NaN</td>\n",
       "      <td>1902</td>\n",
       "      <td>313252195793</td>\n",
       "    </tr>\n",
       "    <tr>\n",
       "      <th>2</th>\n",
       "      <td>BRICS</td>\n",
       "      <td>NaN</td>\n",
       "      <td>1903</td>\n",
       "      <td>283825062307</td>\n",
       "    </tr>\n",
       "  </tbody>\n",
       "</table>\n",
       "</div>"
      ],
      "text/plain": [
       "  Entity Code  Year  Freshwater use\n",
       "0  BRICS  NaN  1901    301174824608\n",
       "1  BRICS  NaN  1902    313252195793\n",
       "2  BRICS  NaN  1903    283825062307"
      ]
     },
     "execution_count": 5,
     "metadata": {},
     "output_type": "execute_result"
    }
   ],
   "source": [
    "water_df = pd.read_csv(\"data/global-freshwater-use-over-the-long-run.csv\")\n",
    "\n",
    "water_df.head(3)"
   ]
  },
  {
   "cell_type": "code",
   "execution_count": 6,
   "metadata": {},
   "outputs": [
    {
     "data": {
      "image/png": "[encoded data removed]",
      "text/plain": [
       "<Figure size 1000x600 with 1 Axes>"
      ]
     },
     "metadata": {},
     "output_type": "display_data"
    }
   ],
   "source": [
    "water_df_world = water_df[water_df[\"Entity\"] == \"World\"]\n",
    "\n",
    "plt.figure(figsize=(10, 6))\n",
    "sns.lineplot(data=water_df_world, x='Year', y='Freshwater use')\n",
    "plt.xlabel('Year')\n",
    "plt.ylabel('Freshwater use')\n",
    "plt.title('Global freshwater use over the long-run')\n",
    "plt.xticks(rotation=45)\n",
    "plt.tight_layout()\n",
    "plt.show()"
   ]
  }
 ],
 "metadata": {
  "kernelspec": {
   "display_name": "ada",
   "language": "python",
   "name": "python3"
  },
  "language_info": {
   "codemirror_mode": {
    "name": "ipython",
    "version": 3
   },
   "file_extension": ".py",
   "mimetype": "text/x-python",
   "name": "python",
   "nbconvert_exporter": "python",
   "pygments_lexer": "ipython3",
   "version": "3.9.18"
  }
 },
 "nbformat": 4,
 "nbformat_minor": 2
}
